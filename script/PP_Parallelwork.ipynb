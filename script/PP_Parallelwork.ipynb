{
 "cells": [
  {
   "cell_type": "code",
   "execution_count": 1,
   "metadata": {},
   "outputs": [],
   "source": [
    "# TITLE        :: PRACTICE PARALLEL PROCESSING (JOBLIB PACK.)\n",
    "# AUTHOR       :: CHOI SANG HEON\n",
    "# CREATED DATE :: 2023-05-29 (MON)\n",
    "# UPDATED DATE :: 2023-05-30 (TUE)"
   ]
  },
  {
   "attachments": {},
   "cell_type": "markdown",
   "metadata": {},
   "source": [
    "## 00. **SET WORK ENVORINMENT**"
   ]
  },
  {
   "attachments": {},
   "cell_type": "markdown",
   "metadata": {},
   "source": [
    "### 00.1. **IMPORT PACKAGES AND SET OPTIONS**"
   ]
  },
  {
   "cell_type": "code",
   "execution_count": 2,
   "metadata": {},
   "outputs": [],
   "source": [
    "#(1) Import packages\n",
    "import os\n",
    "import warnings \n",
    "from datetime import datetime\n",
    "import numpy as np \n",
    "from joblib import Parallel\n",
    "from joblib import delayed\n",
    "\n",
    "#(2) Set system Options\n",
    "warnings.filterwarnings(action=\"ignore\")"
   ]
  },
  {
   "attachments": {},
   "cell_type": "markdown",
   "metadata": {},
   "source": [
    "### 00.2. **CREATE USER-DEFINED FUNCTIONS** "
   ]
  },
  {
   "cell_type": "code",
   "execution_count": 3,
   "metadata": {},
   "outputs": [],
   "source": [
    "#(1) Create `cube()` function\n",
    "def cube(num_01, num_02, num_03) :\n",
    "    return_value = num_01 * num_02 * num_03  \n",
    "    return return_value"
   ]
  },
  {
   "attachments": {},
   "cell_type": "markdown",
   "metadata": {},
   "source": [
    "## 01. **PRACTICE \"`JOBLIB`\" PACKAGE**"
   ]
  },
  {
   "attachments": {},
   "cell_type": "markdown",
   "metadata": {},
   "source": [
    "### 01.1. **DEFINE FOR-LOOP**"
   ]
  },
  {
   "cell_type": "code",
   "execution_count": 4,
   "metadata": {},
   "outputs": [
    {
     "name": "stdout",
     "output_type": "stream",
     "text": [
      "0\n"
     ]
    }
   ],
   "source": [
    "#(1) Define variables\n",
    "stop_num = 100\n",
    "\n",
    "#(2) Define for-loop and check running time\n",
    "return_no_parallel = []\n",
    "chk_start_dttm = datetime.now()\n",
    "for i in np.arange(start=0, stop=stop_num) : \n",
    "    for k in np.arange(start=0, stop=stop_num) :\n",
    "        for m in np.arange(start=0, stop=stop_num) : \n",
    "            return_no_parallel.append(cube(num_01=i, num_02=k, num_03=m))\n",
    "chk_end_dttm = datetime.now()\n",
    "chk_dur_dttm = (chk_end_dttm-chk_start_dttm).seconds\n",
    "\n",
    "#(3) Check running time\n",
    "print(chk_dur_dttm)"
   ]
  },
  {
   "cell_type": "code",
   "execution_count": 5,
   "metadata": {},
   "outputs": [
    {
     "name": "stdout",
     "output_type": "stream",
     "text": [
      "[0, 0, 0, 0, 0, 0, 0, 0, 0, 0]\n"
     ]
    }
   ],
   "source": [
    "#(4) Print `return_no_parallel` list\n",
    "print(return_no_parallel[:10])"
   ]
  },
  {
   "attachments": {},
   "cell_type": "markdown",
   "metadata": {},
   "source": [
    "### 01.2. **DEFINE FOR-LOOP WITH PARALLEL PROCESS (N_JOBS=`1`)**"
   ]
  },
  {
   "cell_type": "code",
   "execution_count": null,
   "metadata": {},
   "outputs": [],
   "source": [
    "#(1) Define parallel-for-loop and check running time\n",
    "return_no_parallel = []\n",
    "chk_start_dttm = datetime.now()\n",
    "with Parallel(n_jobs=1, prefer=\"threads\") as parallel : \n",
    "    return_no_parallel = parallel(\n",
    "        delayed(cube)(i, k, m) \n",
    "        for i in np.arange(start=0, stop=stop_num) \n",
    "        for k in np.arange(start=0, stop=stop_num)\n",
    "        for m in np.arange(start=0, stop=stop_num)\n",
    "    )\n",
    "chk_end_dttm = datetime.now()\n",
    "chk_dur_dttm = (chk_end_dttm-chk_start_dttm).seconds\n",
    "\n",
    "#(2) Check running time \n",
    "print(chk_dur_dttm)"
   ]
  },
  {
   "cell_type": "code",
   "execution_count": null,
   "metadata": {},
   "outputs": [],
   "source": [
    "#(3) Print `return_parallel` list\n",
    "print(return_no_parallel[:10])"
   ]
  },
  {
   "attachments": {},
   "cell_type": "markdown",
   "metadata": {},
   "source": [
    "### 01.3. **DEFINE FOR-LOOP WITH PARALLEL PROCESS (N_JOBS=`3`)**"
   ]
  },
  {
   "cell_type": "code",
   "execution_count": null,
   "metadata": {},
   "outputs": [],
   "source": [
    "#(1) Define parallel-for-loop and check running time\n",
    "return_parallel = []\n",
    "chk_start_dttm = datetime.now()\n",
    "with Parallel(n_jobs=(os.cpu_count()-7), prefer=\"threads\") as parallel : \n",
    "    return_parallel = parallel(\n",
    "        delayed(cube)(i, k, m) \n",
    "        for i in np.arange(start=0, stop=stop_num) \n",
    "        for k in np.arange(start=0, stop=stop_num)\n",
    "        for m in np.arange(start=0, stop=stop_num)\n",
    "    )\n",
    "chk_end_dttm = datetime.now()\n",
    "chk_dur_dttm = (chk_end_dttm-chk_start_dttm).seconds\n",
    "\n",
    "#(2) Check running time \n",
    "print(chk_dur_dttm)"
   ]
  },
  {
   "cell_type": "code",
   "execution_count": null,
   "metadata": {},
   "outputs": [],
   "source": [
    "#(3) Print `return_parallel` list\n",
    "print(return_parallel[:10])"
   ]
  }
 ],
 "metadata": {
  "kernelspec": {
   "display_name": "base",
   "language": "python",
   "name": "python3"
  },
  "language_info": {
   "codemirror_mode": {
    "name": "ipython",
    "version": 3
   },
   "file_extension": ".py",
   "mimetype": "text/x-python",
   "name": "python",
   "nbconvert_exporter": "python",
   "pygments_lexer": "ipython3",
   "version": "3.8.18"
  },
  "orig_nbformat": 4
 },
 "nbformat": 4,
 "nbformat_minor": 2
}
