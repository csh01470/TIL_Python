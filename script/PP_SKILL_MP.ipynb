{
 "cells": [
  {
   "cell_type": "code",
   "execution_count": 1,
   "metadata": {},
   "outputs": [],
   "source": [
    "# TITLE        :: PRACTICE MULTI PROCESSING (JOBLIB PACK.)\n",
    "# AUTHOR       :: CHOI SANG HEON\n",
    "# CREATED DATE :: 2023-05-29 (MON)\n",
    "# UPDATED DATE :: 2024-03-08 (FRI)"
   ]
  },
  {
   "attachments": {},
   "cell_type": "markdown",
   "metadata": {},
   "source": [
    "## 00. **SET WORK ENVORINMENT**"
   ]
  },
  {
   "cell_type": "markdown",
   "metadata": {},
   "source": [
    "#### 00.1. **DEFINE PRE-VARIABLES**"
   ]
  },
  {
   "cell_type": "code",
   "execution_count": 2,
   "metadata": {},
   "outputs": [],
   "source": [
    "pass"
   ]
  },
  {
   "attachments": {},
   "cell_type": "markdown",
   "metadata": {},
   "source": [
    "#### 00.2. **IMPORT PACKAGES AND SET OPTIONS**"
   ]
  },
  {
   "cell_type": "code",
   "execution_count": 3,
   "metadata": {},
   "outputs": [],
   "source": [
    "#(1) Import packages\n",
    "import os\n",
    "import warnings \n",
    "import datetime\n",
    "import numpy as np \n",
    "import joblib\n",
    "\n",
    "#(2) Set Options\n",
    "warnings.filterwarnings(action='ignore')"
   ]
  },
  {
   "attachments": {},
   "cell_type": "markdown",
   "metadata": {},
   "source": [
    "#### 00.2. **CREATE USER-DEFINED FUNCTIONS** "
   ]
  },
  {
   "cell_type": "code",
   "execution_count": 4,
   "metadata": {},
   "outputs": [],
   "source": [
    "#(1) Create `cube()` function\n",
    "def cube(num_01:int, num_02:int, num_03:int) -> int :\n",
    "    return_value = num_01 * num_02 * num_03  \n",
    "    return return_value"
   ]
  },
  {
   "attachments": {},
   "cell_type": "markdown",
   "metadata": {},
   "source": [
    "## 01. **PRACTICE \"`JOBLIB`\" PACKAGE**"
   ]
  },
  {
   "attachments": {},
   "cell_type": "markdown",
   "metadata": {},
   "source": [
    "### 01.1. **DEFINE FOR-LOOP**"
   ]
  },
  {
   "cell_type": "code",
   "execution_count": 5,
   "metadata": {},
   "outputs": [
    {
     "name": "stdout",
     "output_type": "stream",
     "text": [
      "2.487479\n"
     ]
    }
   ],
   "source": [
    "#(1) Define variables\n",
    "stop_num = 250\n",
    "\n",
    "#(2) Define for-loop and check running time\n",
    "return_forloop = []\n",
    "iter_start_dttm = datetime.datetime.now()\n",
    "for i in np.arange(start=0, stop=stop_num) : \n",
    "    for k in np.arange(start=0, stop=stop_num) :\n",
    "        for m in np.arange(start=0, stop=stop_num) : \n",
    "            return_forloop.append(cube(num_01=i, num_02=k, num_03=m))\n",
    "iter_end_dttm = datetime.datetime.now()\n",
    "iter_dur_sec = (iter_end_dttm - iter_start_dttm).total_seconds()\n",
    "\n",
    "#(3) Check running time\n",
    "print(iter_dur_sec)"
   ]
  },
  {
   "attachments": {},
   "cell_type": "markdown",
   "metadata": {},
   "source": [
    "### 01.2. **DEFINE FOR-LOOP WITH MULTI PROCESSING (N_JOBS=`1`)**"
   ]
  },
  {
   "cell_type": "code",
   "execution_count": 6,
   "metadata": {},
   "outputs": [
    {
     "name": "stdout",
     "output_type": "stream",
     "text": [
      "25036.487444\n"
     ]
    }
   ],
   "source": [
    "#(1) Define parallel-for-loop and check running time\n",
    "return_parallel_wn1 = []\n",
    "iter_start_dttm = datetime.datetime.now()\n",
    "with joblib.Parallel(n_jobs=1) as parallel : \n",
    "    return_parallel_wn1 = parallel(joblib.delayed(function=cube)(i, k, m) \n",
    "        for i in np.arange(start=0, stop=stop_num) \n",
    "        for k in np.arange(start=0, stop=stop_num)\n",
    "        for m in np.arange(start=0, stop=stop_num)\n",
    "    )\n",
    "iter_end_dttm = datetime.datetime.now()\n",
    "iter_dur_sec = (iter_end_dttm - iter_start_dttm).total_seconds()\n",
    "\n",
    "#(2) Check running time \n",
    "print(iter_dur_sec)"
   ]
  },
  {
   "attachments": {},
   "cell_type": "markdown",
   "metadata": {},
   "source": [
    "### 01.3. **DEFINE FOR-LOOP WITH MULTI PROCESSING (N_JOBS=`-1`)**"
   ]
  },
  {
   "cell_type": "code",
   "execution_count": 7,
   "metadata": {},
   "outputs": [
    {
     "name": "stdout",
     "output_type": "stream",
     "text": [
      "97.868958\n"
     ]
    }
   ],
   "source": [
    "#(1) Define parallel-for-loop and check running time\n",
    "return_parallel_wnm1 = []\n",
    "iter_start_dttm = datetime.datetime.now()\n",
    "with joblib.Parallel(n_jobs=-1) as parallel : \n",
    "    return_parallel_wnm1 = parallel(joblib.delayed(function=cube)(i, k, m) \n",
    "        for i in np.arange(start=0, stop=stop_num) \n",
    "        for k in np.arange(start=0, stop=stop_num)\n",
    "        for m in np.arange(start=0, stop=stop_num)\n",
    "    )\n",
    "iter_end_dttm = datetime.datetime.now()\n",
    "iter_dur_sec = (iter_end_dttm - iter_start_dttm).total_seconds()\n",
    "\n",
    "#(2) Check running time \n",
    "print(iter_dur_sec)"
   ]
  }
 ],
 "metadata": {
  "kernelspec": {
   "display_name": "base",
   "language": "python",
   "name": "python3"
  },
  "language_info": {
   "codemirror_mode": {
    "name": "ipython",
    "version": 3
   },
   "file_extension": ".py",
   "mimetype": "text/x-python",
   "name": "python",
   "nbconvert_exporter": "python",
   "pygments_lexer": "ipython3",
   "version": "3.8.18"
  },
  "orig_nbformat": 4
 },
 "nbformat": 4,
 "nbformat_minor": 2
}
